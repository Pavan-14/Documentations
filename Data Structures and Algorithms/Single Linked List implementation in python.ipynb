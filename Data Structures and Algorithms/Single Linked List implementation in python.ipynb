{
 "cells": [
  {
   "cell_type": "markdown",
   "metadata": {},
   "source": [
    "### Single Linked List"
   ]
  },
  {
   "cell_type": "code",
   "execution_count": 1,
   "metadata": {},
   "outputs": [],
   "source": [
    "class Node:\n",
    "    def __init__(self, data=None):\n",
    "        self.data = data\n",
    "        self.pointer = None\n",
    "        \n",
    "class Single_Linked_List:\n",
    "    def __init__(self):\n",
    "        self.head = None\n",
    "        \n",
    "    def printall(self):\n",
    "        node = self.head\n",
    "        while node is not None:\n",
    "            print(node.data)\n",
    "            node = node.pointer\n",
    "        \n",
    "    def AtStart(self, data):\n",
    "        '''Add the new node at begining.'''\n",
    "        new_node = Node(data)\n",
    "        new_node.pointer = self.head\n",
    "        \n",
    "        self.head = new_node\n",
    "        \n",
    "    def AtEnd(self, data):\n",
    "        '''Add the new node at end.'''\n",
    "        new_node = Node(data)\n",
    "        \n",
    "        if self.head == None:\n",
    "            self.head = new_node\n",
    "            return\n",
    "        \n",
    "        else:\n",
    "            node = self.head\n",
    "            while node.pointer:\n",
    "                node = node.pointer\n",
    "                \n",
    "            node.pointer = new_node\n",
    "    \n",
    "    def insert(self, prev_node, value):\n",
    "        new_node = Node(value)\n",
    "        new_node.pointer = prev_node.pointer\n",
    "        prev_node.pointer = new_node"
   ]
  },
  {
   "cell_type": "code",
   "execution_count": 2,
   "metadata": {},
   "outputs": [],
   "source": [
    "SLL = Single_Linked_List()\n",
    "SLL.head = Node(1)\n",
    "SLL.head.pointer = Node(2)"
   ]
  },
  {
   "cell_type": "code",
   "execution_count": 3,
   "metadata": {},
   "outputs": [
    {
     "name": "stdout",
     "output_type": "stream",
     "text": [
      "<__main__.Single_Linked_List object at 0x0000024D4CC44B00>\n"
     ]
    }
   ],
   "source": [
    "print(SLL)"
   ]
  },
  {
   "cell_type": "code",
   "execution_count": 4,
   "metadata": {},
   "outputs": [
    {
     "name": "stdout",
     "output_type": "stream",
     "text": [
      "1\n",
      "2\n"
     ]
    }
   ],
   "source": [
    "SLL.printall()"
   ]
  },
  {
   "cell_type": "code",
   "execution_count": 5,
   "metadata": {},
   "outputs": [],
   "source": [
    "SLL.AtStart(0)"
   ]
  },
  {
   "cell_type": "code",
   "execution_count": 6,
   "metadata": {},
   "outputs": [
    {
     "name": "stdout",
     "output_type": "stream",
     "text": [
      "0\n",
      "1\n",
      "2\n"
     ]
    }
   ],
   "source": [
    "SLL.printall()"
   ]
  },
  {
   "cell_type": "code",
   "execution_count": 7,
   "metadata": {},
   "outputs": [],
   "source": [
    "SLL.AtEnd(3)"
   ]
  },
  {
   "cell_type": "code",
   "execution_count": 8,
   "metadata": {},
   "outputs": [
    {
     "name": "stdout",
     "output_type": "stream",
     "text": [
      "0\n",
      "1\n",
      "2\n",
      "3\n"
     ]
    }
   ],
   "source": [
    "SLL.printall()"
   ]
  },
  {
   "cell_type": "code",
   "execution_count": null,
   "metadata": {},
   "outputs": [],
   "source": []
  }
 ],
 "metadata": {
  "kernelspec": {
   "display_name": "Python 3",
   "language": "python",
   "name": "python3"
  },
  "language_info": {
   "codemirror_mode": {
    "name": "ipython",
    "version": 3
   },
   "file_extension": ".py",
   "mimetype": "text/x-python",
   "name": "python",
   "nbconvert_exporter": "python",
   "pygments_lexer": "ipython3",
   "version": "3.6.5"
  }
 },
 "nbformat": 4,
 "nbformat_minor": 4
}
